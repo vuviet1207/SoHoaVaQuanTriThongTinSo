{
  "cells": [
    {
      "cell_type": "code",
      "execution_count": 1,
      "metadata": {
        "colab": {
          "base_uri": "https://localhost:8080/"
        },
        "id": "NzaOtXmPTG1d",
        "outputId": "316bd67e-d3e2-4c1e-be4b-af34dcb06e0c"
      },
      "outputs": [
        {
          "data": {
            "text/plain": [
              "True"
            ]
          },
          "execution_count": 1,
          "metadata": {},
          "output_type": "execute_result"
        }
      ],
      "source": [
        "#pytorch_basic\n",
        "import torch\n",
        "torch.cuda.is_available()"
      ]
    },
    {
      "cell_type": "markdown",
      "metadata": {
        "id": "hzxryUEsVuoE"
      },
      "source": [
        "Sử dụng GPU và Cuda"
      ]
    },
    {
      "cell_type": "code",
      "execution_count": 2,
      "metadata": {
        "colab": {
          "base_uri": "https://localhost:8080/"
        },
        "id": "FQVIhqowVy9M",
        "outputId": "0c66dbb0-b077-47d5-f5fe-217b37d2985e"
      },
      "outputs": [
        {
          "data": {
            "text/plain": [
              "0"
            ]
          },
          "execution_count": 2,
          "metadata": {},
          "output_type": "execute_result"
        }
      ],
      "source": [
        "torch.cuda.current_device()"
      ]
    },
    {
      "cell_type": "code",
      "execution_count": 3,
      "metadata": {
        "colab": {
          "base_uri": "https://localhost:8080/",
          "height": 36
        },
        "id": "SQbF55lJXhJY",
        "outputId": "9a90eb0c-be05-4416-ef68-72ef88a49b61"
      },
      "outputs": [
        {
          "data": {
            "application/vnd.google.colaboratory.intrinsic+json": {
              "type": "string"
            },
            "text/plain": [
              "'Tesla T4'"
            ]
          },
          "execution_count": 3,
          "metadata": {},
          "output_type": "execute_result"
        }
      ],
      "source": [
        "torch.cuda.get_device_name(0)"
      ]
    },
    {
      "cell_type": "code",
      "execution_count": 4,
      "metadata": {
        "colab": {
          "base_uri": "https://localhost:8080/"
        },
        "id": "eEpHYzG6XjC4",
        "outputId": "faebcb11-8d54-4987-fc73-efc233abd7b8"
      },
      "outputs": [
        {
          "data": {
            "text/plain": [
              "0"
            ]
          },
          "execution_count": 4,
          "metadata": {},
          "output_type": "execute_result"
        }
      ],
      "source": [
        "torch.cuda.memory_allocated()"
      ]
    },
    {
      "cell_type": "code",
      "execution_count": 5,
      "metadata": {
        "colab": {
          "base_uri": "https://localhost:8080/"
        },
        "id": "axOcxhF8XlKc",
        "outputId": "c9def0ff-392d-4a5b-fc7d-544f62db4e8e"
      },
      "outputs": [
        {
          "name": "stderr",
          "output_type": "stream",
          "text": [
            "<ipython-input-5-a8ef6925090f>:2: FutureWarning: `torch.cuda.memory_cached` has been renamed to `torch.cuda.memory_reserved`\n",
            "  torch.cuda.memory_cached()\n"
          ]
        },
        {
          "data": {
            "text/plain": [
              "0"
            ]
          },
          "execution_count": 5,
          "metadata": {},
          "output_type": "execute_result"
        }
      ],
      "source": [
        "#Trả về bộ nhớ GPU hiện tại được quản lý bởi bộ phân bố bộ nhớ đệm theo byte\n",
        "torch.cuda.memory_cached()"
      ]
    },
    {
      "cell_type": "code",
      "execution_count": null,
      "metadata": {
        "id": "JnNgOOkP3U4Q"
      },
      "outputs": [],
      "source": [
        "# loading data Iris\n",
        "from sklearn.datasets import load_iris\n",
        "iris = load_iris()\n",
        "iris.head()"
      ]
    },
    {
      "cell_type": "markdown",
      "metadata": {
        "id": "TP0RBN_PXqEN"
      },
      "source": [
        "Dataset with pytorch"
      ]
    },
    {
      "cell_type": "code",
      "execution_count": 12,
      "metadata": {
        "colab": {
          "base_uri": "https://localhost:8080/",
          "height": 206
        },
        "id": "NUXwhGY8ZfuK",
        "outputId": "898703d7-fde1-412d-84ef-8ccf2577f07f"
      },
      "outputs": [
        {
          "data": {
            "application/vnd.google.colaboratory.intrinsic+json": {
              "summary": "{\n  \"name\": \"df\",\n  \"rows\": 150,\n  \"fields\": [\n    {\n      \"column\": \"Id\",\n      \"properties\": {\n        \"dtype\": \"number\",\n        \"std\": 43,\n        \"min\": 1,\n        \"max\": 150,\n        \"num_unique_values\": 150,\n        \"samples\": [\n          74,\n          19,\n          119\n        ],\n        \"semantic_type\": \"\",\n        \"description\": \"\"\n      }\n    },\n    {\n      \"column\": \"SepalLengthCm\",\n      \"properties\": {\n        \"dtype\": \"number\",\n        \"std\": 0.8280661279778629,\n        \"min\": 4.3,\n        \"max\": 7.9,\n        \"num_unique_values\": 35,\n        \"samples\": [\n          6.2,\n          4.5,\n          5.6\n        ],\n        \"semantic_type\": \"\",\n        \"description\": \"\"\n      }\n    },\n    {\n      \"column\": \"SepalWidthCm\",\n      \"properties\": {\n        \"dtype\": \"number\",\n        \"std\": 0.4335943113621737,\n        \"min\": 2.0,\n        \"max\": 4.4,\n        \"num_unique_values\": 23,\n        \"samples\": [\n          2.3,\n          4.0,\n          3.5\n        ],\n        \"semantic_type\": \"\",\n        \"description\": \"\"\n      }\n    },\n    {\n      \"column\": \"PetalLengthCm\",\n      \"properties\": {\n        \"dtype\": \"number\",\n        \"std\": 1.7644204199522617,\n        \"min\": 1.0,\n        \"max\": 6.9,\n        \"num_unique_values\": 43,\n        \"samples\": [\n          6.7,\n          3.8,\n          3.7\n        ],\n        \"semantic_type\": \"\",\n        \"description\": \"\"\n      }\n    },\n    {\n      \"column\": \"PetalWidthCm\",\n      \"properties\": {\n        \"dtype\": \"number\",\n        \"std\": 0.7631607417008414,\n        \"min\": 0.1,\n        \"max\": 2.5,\n        \"num_unique_values\": 22,\n        \"samples\": [\n          0.2,\n          1.2,\n          1.3\n        ],\n        \"semantic_type\": \"\",\n        \"description\": \"\"\n      }\n    },\n    {\n      \"column\": \"Species\",\n      \"properties\": {\n        \"dtype\": \"category\",\n        \"num_unique_values\": 3,\n        \"samples\": [\n          \"Iris-setosa\",\n          \"Iris-versicolor\",\n          \"Iris-virginica\"\n        ],\n        \"semantic_type\": \"\",\n        \"description\": \"\"\n      }\n    }\n  ]\n}",
              "type": "dataframe",
              "variable_name": "df"
            },
            "text/html": [
              "\n",
              "  <div id=\"df-d30a9db4-283c-49da-ba88-44d73576a327\" class=\"colab-df-container\">\n",
              "    <div>\n",
              "<style scoped>\n",
              "    .dataframe tbody tr th:only-of-type {\n",
              "        vertical-align: middle;\n",
              "    }\n",
              "\n",
              "    .dataframe tbody tr th {\n",
              "        vertical-align: top;\n",
              "    }\n",
              "\n",
              "    .dataframe thead th {\n",
              "        text-align: right;\n",
              "    }\n",
              "</style>\n",
              "<table border=\"1\" class=\"dataframe\">\n",
              "  <thead>\n",
              "    <tr style=\"text-align: right;\">\n",
              "      <th></th>\n",
              "      <th>Id</th>\n",
              "      <th>SepalLengthCm</th>\n",
              "      <th>SepalWidthCm</th>\n",
              "      <th>PetalLengthCm</th>\n",
              "      <th>PetalWidthCm</th>\n",
              "      <th>Species</th>\n",
              "    </tr>\n",
              "  </thead>\n",
              "  <tbody>\n",
              "    <tr>\n",
              "      <th>0</th>\n",
              "      <td>1</td>\n",
              "      <td>5.1</td>\n",
              "      <td>3.5</td>\n",
              "      <td>1.4</td>\n",
              "      <td>0.2</td>\n",
              "      <td>Iris-setosa</td>\n",
              "    </tr>\n",
              "    <tr>\n",
              "      <th>1</th>\n",
              "      <td>2</td>\n",
              "      <td>4.9</td>\n",
              "      <td>3.0</td>\n",
              "      <td>1.4</td>\n",
              "      <td>0.2</td>\n",
              "      <td>Iris-setosa</td>\n",
              "    </tr>\n",
              "    <tr>\n",
              "      <th>2</th>\n",
              "      <td>3</td>\n",
              "      <td>4.7</td>\n",
              "      <td>3.2</td>\n",
              "      <td>1.3</td>\n",
              "      <td>0.2</td>\n",
              "      <td>Iris-setosa</td>\n",
              "    </tr>\n",
              "    <tr>\n",
              "      <th>3</th>\n",
              "      <td>4</td>\n",
              "      <td>4.6</td>\n",
              "      <td>3.1</td>\n",
              "      <td>1.5</td>\n",
              "      <td>0.2</td>\n",
              "      <td>Iris-setosa</td>\n",
              "    </tr>\n",
              "    <tr>\n",
              "      <th>4</th>\n",
              "      <td>5</td>\n",
              "      <td>5.0</td>\n",
              "      <td>3.6</td>\n",
              "      <td>1.4</td>\n",
              "      <td>0.2</td>\n",
              "      <td>Iris-setosa</td>\n",
              "    </tr>\n",
              "  </tbody>\n",
              "</table>\n",
              "</div>\n",
              "    <div class=\"colab-df-buttons\">\n",
              "\n",
              "  <div class=\"colab-df-container\">\n",
              "    <button class=\"colab-df-convert\" onclick=\"convertToInteractive('df-d30a9db4-283c-49da-ba88-44d73576a327')\"\n",
              "            title=\"Convert this dataframe to an interactive table.\"\n",
              "            style=\"display:none;\">\n",
              "\n",
              "  <svg xmlns=\"http://www.w3.org/2000/svg\" height=\"24px\" viewBox=\"0 -960 960 960\">\n",
              "    <path d=\"M120-120v-720h720v720H120Zm60-500h600v-160H180v160Zm220 220h160v-160H400v160Zm0 220h160v-160H400v160ZM180-400h160v-160H180v160Zm440 0h160v-160H620v160ZM180-180h160v-160H180v160Zm440 0h160v-160H620v160Z\"/>\n",
              "  </svg>\n",
              "    </button>\n",
              "\n",
              "  <style>\n",
              "    .colab-df-container {\n",
              "      display:flex;\n",
              "      gap: 12px;\n",
              "    }\n",
              "\n",
              "    .colab-df-convert {\n",
              "      background-color: #E8F0FE;\n",
              "      border: none;\n",
              "      border-radius: 50%;\n",
              "      cursor: pointer;\n",
              "      display: none;\n",
              "      fill: #1967D2;\n",
              "      height: 32px;\n",
              "      padding: 0 0 0 0;\n",
              "      width: 32px;\n",
              "    }\n",
              "\n",
              "    .colab-df-convert:hover {\n",
              "      background-color: #E2EBFA;\n",
              "      box-shadow: 0px 1px 2px rgba(60, 64, 67, 0.3), 0px 1px 3px 1px rgba(60, 64, 67, 0.15);\n",
              "      fill: #174EA6;\n",
              "    }\n",
              "\n",
              "    .colab-df-buttons div {\n",
              "      margin-bottom: 4px;\n",
              "    }\n",
              "\n",
              "    [theme=dark] .colab-df-convert {\n",
              "      background-color: #3B4455;\n",
              "      fill: #D2E3FC;\n",
              "    }\n",
              "\n",
              "    [theme=dark] .colab-df-convert:hover {\n",
              "      background-color: #434B5C;\n",
              "      box-shadow: 0px 1px 3px 1px rgba(0, 0, 0, 0.15);\n",
              "      filter: drop-shadow(0px 1px 2px rgba(0, 0, 0, 0.3));\n",
              "      fill: #FFFFFF;\n",
              "    }\n",
              "  </style>\n",
              "\n",
              "    <script>\n",
              "      const buttonEl =\n",
              "        document.querySelector('#df-d30a9db4-283c-49da-ba88-44d73576a327 button.colab-df-convert');\n",
              "      buttonEl.style.display =\n",
              "        google.colab.kernel.accessAllowed ? 'block' : 'none';\n",
              "\n",
              "      async function convertToInteractive(key) {\n",
              "        const element = document.querySelector('#df-d30a9db4-283c-49da-ba88-44d73576a327');\n",
              "        const dataTable =\n",
              "          await google.colab.kernel.invokeFunction('convertToInteractive',\n",
              "                                                    [key], {});\n",
              "        if (!dataTable) return;\n",
              "\n",
              "        const docLinkHtml = 'Like what you see? Visit the ' +\n",
              "          '<a target=\"_blank\" href=https://colab.research.google.com/notebooks/data_table.ipynb>data table notebook</a>'\n",
              "          + ' to learn more about interactive tables.';\n",
              "        element.innerHTML = '';\n",
              "        dataTable['output_type'] = 'display_data';\n",
              "        await google.colab.output.renderOutput(dataTable, element);\n",
              "        const docLink = document.createElement('div');\n",
              "        docLink.innerHTML = docLinkHtml;\n",
              "        element.appendChild(docLink);\n",
              "      }\n",
              "    </script>\n",
              "  </div>\n",
              "\n",
              "\n",
              "<div id=\"df-fc129621-f29c-4f0d-ae51-19e2c30244db\">\n",
              "  <button class=\"colab-df-quickchart\" onclick=\"quickchart('df-fc129621-f29c-4f0d-ae51-19e2c30244db')\"\n",
              "            title=\"Suggest charts\"\n",
              "            style=\"display:none;\">\n",
              "\n",
              "<svg xmlns=\"http://www.w3.org/2000/svg\" height=\"24px\"viewBox=\"0 0 24 24\"\n",
              "     width=\"24px\">\n",
              "    <g>\n",
              "        <path d=\"M19 3H5c-1.1 0-2 .9-2 2v14c0 1.1.9 2 2 2h14c1.1 0 2-.9 2-2V5c0-1.1-.9-2-2-2zM9 17H7v-7h2v7zm4 0h-2V7h2v10zm4 0h-2v-4h2v4z\"/>\n",
              "    </g>\n",
              "</svg>\n",
              "  </button>\n",
              "\n",
              "<style>\n",
              "  .colab-df-quickchart {\n",
              "      --bg-color: #E8F0FE;\n",
              "      --fill-color: #1967D2;\n",
              "      --hover-bg-color: #E2EBFA;\n",
              "      --hover-fill-color: #174EA6;\n",
              "      --disabled-fill-color: #AAA;\n",
              "      --disabled-bg-color: #DDD;\n",
              "  }\n",
              "\n",
              "  [theme=dark] .colab-df-quickchart {\n",
              "      --bg-color: #3B4455;\n",
              "      --fill-color: #D2E3FC;\n",
              "      --hover-bg-color: #434B5C;\n",
              "      --hover-fill-color: #FFFFFF;\n",
              "      --disabled-bg-color: #3B4455;\n",
              "      --disabled-fill-color: #666;\n",
              "  }\n",
              "\n",
              "  .colab-df-quickchart {\n",
              "    background-color: var(--bg-color);\n",
              "    border: none;\n",
              "    border-radius: 50%;\n",
              "    cursor: pointer;\n",
              "    display: none;\n",
              "    fill: var(--fill-color);\n",
              "    height: 32px;\n",
              "    padding: 0;\n",
              "    width: 32px;\n",
              "  }\n",
              "\n",
              "  .colab-df-quickchart:hover {\n",
              "    background-color: var(--hover-bg-color);\n",
              "    box-shadow: 0 1px 2px rgba(60, 64, 67, 0.3), 0 1px 3px 1px rgba(60, 64, 67, 0.15);\n",
              "    fill: var(--button-hover-fill-color);\n",
              "  }\n",
              "\n",
              "  .colab-df-quickchart-complete:disabled,\n",
              "  .colab-df-quickchart-complete:disabled:hover {\n",
              "    background-color: var(--disabled-bg-color);\n",
              "    fill: var(--disabled-fill-color);\n",
              "    box-shadow: none;\n",
              "  }\n",
              "\n",
              "  .colab-df-spinner {\n",
              "    border: 2px solid var(--fill-color);\n",
              "    border-color: transparent;\n",
              "    border-bottom-color: var(--fill-color);\n",
              "    animation:\n",
              "      spin 1s steps(1) infinite;\n",
              "  }\n",
              "\n",
              "  @keyframes spin {\n",
              "    0% {\n",
              "      border-color: transparent;\n",
              "      border-bottom-color: var(--fill-color);\n",
              "      border-left-color: var(--fill-color);\n",
              "    }\n",
              "    20% {\n",
              "      border-color: transparent;\n",
              "      border-left-color: var(--fill-color);\n",
              "      border-top-color: var(--fill-color);\n",
              "    }\n",
              "    30% {\n",
              "      border-color: transparent;\n",
              "      border-left-color: var(--fill-color);\n",
              "      border-top-color: var(--fill-color);\n",
              "      border-right-color: var(--fill-color);\n",
              "    }\n",
              "    40% {\n",
              "      border-color: transparent;\n",
              "      border-right-color: var(--fill-color);\n",
              "      border-top-color: var(--fill-color);\n",
              "    }\n",
              "    60% {\n",
              "      border-color: transparent;\n",
              "      border-right-color: var(--fill-color);\n",
              "    }\n",
              "    80% {\n",
              "      border-color: transparent;\n",
              "      border-right-color: var(--fill-color);\n",
              "      border-bottom-color: var(--fill-color);\n",
              "    }\n",
              "    90% {\n",
              "      border-color: transparent;\n",
              "      border-bottom-color: var(--fill-color);\n",
              "    }\n",
              "  }\n",
              "</style>\n",
              "\n",
              "  <script>\n",
              "    async function quickchart(key) {\n",
              "      const quickchartButtonEl =\n",
              "        document.querySelector('#' + key + ' button');\n",
              "      quickchartButtonEl.disabled = true;  // To prevent multiple clicks.\n",
              "      quickchartButtonEl.classList.add('colab-df-spinner');\n",
              "      try {\n",
              "        const charts = await google.colab.kernel.invokeFunction(\n",
              "            'suggestCharts', [key], {});\n",
              "      } catch (error) {\n",
              "        console.error('Error during call to suggestCharts:', error);\n",
              "      }\n",
              "      quickchartButtonEl.classList.remove('colab-df-spinner');\n",
              "      quickchartButtonEl.classList.add('colab-df-quickchart-complete');\n",
              "    }\n",
              "    (() => {\n",
              "      let quickchartButtonEl =\n",
              "        document.querySelector('#df-fc129621-f29c-4f0d-ae51-19e2c30244db button');\n",
              "      quickchartButtonEl.style.display =\n",
              "        google.colab.kernel.accessAllowed ? 'block' : 'none';\n",
              "    })();\n",
              "  </script>\n",
              "</div>\n",
              "\n",
              "    </div>\n",
              "  </div>\n"
            ],
            "text/plain": [
              "   Id  SepalLengthCm  SepalWidthCm  PetalLengthCm  PetalWidthCm      Species\n",
              "0   1            5.1           3.5            1.4           0.2  Iris-setosa\n",
              "1   2            4.9           3.0            1.4           0.2  Iris-setosa\n",
              "2   3            4.7           3.2            1.3           0.2  Iris-setosa\n",
              "3   4            4.6           3.1            1.5           0.2  Iris-setosa\n",
              "4   5            5.0           3.6            1.4           0.2  Iris-setosa"
            ]
          },
          "execution_count": 12,
          "metadata": {},
          "output_type": "execute_result"
        }
      ],
      "source": [
        "import numpy as np\n",
        "import pandas as pd\n",
        "import matplotlib.pyplot as plt\n",
        "import seaborn as sns\n",
        "df = pd.read_csv('Iris.csv')\n",
        "df.head()"
      ]
    },
    {
      "cell_type": "code",
      "execution_count": 13,
      "metadata": {
        "colab": {
          "base_uri": "https://localhost:8080/"
        },
        "id": "8mU1GwbdZyFZ",
        "outputId": "7f9d974f-ae66-4233-b668-d18db8293123"
      },
      "outputs": [
        {
          "data": {
            "text/plain": [
              "(150, 6)"
            ]
          },
          "execution_count": 13,
          "metadata": {},
          "output_type": "execute_result"
        }
      ],
      "source": [
        "df.shape"
      ]
    },
    {
      "cell_type": "code",
      "execution_count": 15,
      "metadata": {
        "id": "_ibvKCvwaTA9"
      },
      "outputs": [],
      "source": [
        "from sklearn.preprocessing import LabelEncoder\n",
        "from sklearn.model_selection import train_test_split\n",
        "le = LabelEncoder()\n",
        "X= df.drop([\"Id\",\"Species\"], axis =1).values\n",
        "y= le.fit_transform(df[\"Species\"].values)\n",
        "# chia dữ liệu với test size =0.2\n",
        "X_train, X_test, y_train, y_test = train_test_split(X, y, test_size=0.2, random_state=42)\n",
        "\n",
        "X_train = torch.FloatTensor(X_train)\n",
        "X_test = torch.FloatTensor(X_test)\n",
        "y_train = torch.LongTensor(y_train).reshape(-1, 1)\n",
        "y_test = torch.LongTensor(y_test).reshape(-1, 1)"
      ]
    },
    {
      "cell_type": "code",
      "execution_count": 16,
      "metadata": {
        "colab": {
          "base_uri": "https://localhost:8080/"
        },
        "id": "dXxZuuK-cJ0Y",
        "outputId": "538dbb2f-9485-48dd-cd1b-c9118c6a68f7"
      },
      "outputs": [
        {
          "name": "stdout",
          "output_type": "stream",
          "text": [
            "train_size 120\n"
          ]
        }
      ],
      "source": [
        "print(f\"train_size {len(y_train)}\")"
      ]
    },
    {
      "cell_type": "code",
      "execution_count": 17,
      "metadata": {
        "colab": {
          "base_uri": "https://localhost:8080/"
        },
        "id": "S9SKDLUmctuA",
        "outputId": "a737cd53-93eb-45e8-f814-ad2198577c3c"
      },
      "outputs": [
        {
          "name": "stdout",
          "output_type": "stream",
          "text": [
            "tensor([0, 1, 2]) tensor([40, 41, 39])\n"
          ]
        }
      ],
      "source": [
        "#labels, count = np.unique(y_train, return_counts=True)\n",
        "labels, count = y_train.unique(return_counts=True)\n",
        "\n",
        "print(labels, count)"
      ]
    },
    {
      "cell_type": "code",
      "execution_count": null,
      "metadata": {
        "id": "NsI-CEFIdWeD"
      },
      "outputs": [],
      "source": [
        "# Tính đạo hàm bằng pytorch\n",
        "\n",
        "# cho y = 2x^4 + x^3 + 3x^2 + 5x +1\n",
        "\n",
        "#tính y'"
      ]
    },
    {
      "cell_type": "code",
      "execution_count": null,
      "metadata": {
        "id": "Y0JhzpCueTss"
      },
      "outputs": [],
      "source": [
        "import torch"
      ]
    },
    {
      "cell_type": "code",
      "execution_count": null,
      "metadata": {
        "colab": {
          "base_uri": "https://localhost:8080/"
        },
        "id": "0rl7pc-seGBm",
        "outputId": "1b2c545c-178b-402b-f653-9f8de8bd6753"
      },
      "outputs": [
        {
          "name": "stdout",
          "output_type": "stream",
          "text": [
            "tensor(2., requires_grad=True)\n",
            "None\n"
          ]
        }
      ],
      "source": [
        "# Tạo 1 tensor với requirements_grad được đặt thành True\n",
        "\n",
        "x = torch.tensor(2.0, requires_grad=True)\n",
        "print(x)\n",
        "print(x.grad)\n"
      ]
    },
    {
      "cell_type": "code",
      "execution_count": null,
      "metadata": {
        "colab": {
          "base_uri": "https://localhost:8080/"
        },
        "id": "d6_r2yeOec5m",
        "outputId": "2d6495f4-d900-443a-fe12-9cf5b0be066d"
      },
      "outputs": [
        {
          "name": "stdout",
          "output_type": "stream",
          "text": [
            "tensor(63., grad_fn=<AddBackward0>)\n"
          ]
        }
      ],
      "source": [
        "# Định nghĩa hàm\n",
        "\n",
        "y = 2*x**4 + x**3 + 3*x**2 + 5*x +1\n",
        "print(y)"
      ]
    },
    {
      "cell_type": "code",
      "execution_count": null,
      "metadata": {
        "colab": {
          "base_uri": "https://localhost:8080/"
        },
        "id": "ZfxWUoEee09B",
        "outputId": "b8702410-e23a-4df7-f83f-4f05a7ed7861"
      },
      "outputs": [
        {
          "data": {
            "text/plain": [
              "<AddBackward0 at 0x7fd99e369720>"
            ]
          },
          "execution_count": 16,
          "metadata": {},
          "output_type": "execute_result"
        }
      ],
      "source": [
        "y.grad_fn"
      ]
    },
    {
      "cell_type": "code",
      "execution_count": null,
      "metadata": {
        "id": "UmLgZs8je6aU"
      },
      "outputs": [],
      "source": [
        "# Thực hiện truyền ngược và tính toán tất cả các gradient\n",
        "y.backward()"
      ]
    },
    {
      "cell_type": "code",
      "execution_count": null,
      "metadata": {
        "colab": {
          "base_uri": "https://localhost:8080/"
        },
        "id": "j-XbjPHPfNHj",
        "outputId": "85a40d2d-7b2b-4d50-9d1b-c74f6d27f3e4"
      },
      "outputs": [
        {
          "data": {
            "text/plain": [
              "tensor(93.)"
            ]
          },
          "execution_count": 18,
          "metadata": {},
          "output_type": "execute_result"
        }
      ],
      "source": [
        "# Kết quả đạo hàm\n",
        "x.grad"
      ]
    },
    {
      "cell_type": "code",
      "execution_count": null,
      "metadata": {
        "colab": {
          "base_uri": "https://localhost:8080/"
        },
        "id": "bd18Rzj9fndd",
        "outputId": "150ff798-aee4-4451-c4d9-6238436a6889"
      },
      "outputs": [
        {
          "name": "stdout",
          "output_type": "stream",
          "text": [
            "tensor(2., requires_grad=True)\n",
            "None\n",
            "tensor(435., grad_fn=<AddBackward0>)\n"
          ]
        },
        {
          "data": {
            "text/plain": [
              "tensor(1161.)"
            ]
          },
          "execution_count": 28,
          "metadata": {},
          "output_type": "execute_result"
        }
      ],
      "source": [
        "# Bai tap\n",
        "\n",
        "# Tính y' của y= 5x^6 + 3x^3 + 2x^1 + x + 2x + 5x^4 +1\n",
        "x = torch.tensor(2.0, requires_grad=True)\n",
        "print(x)\n",
        "print(x.grad)\n",
        "y = 5*x**6 + 3*x**3 + 2*x**1 + x + 2*x + 5*x**4 +1\n",
        "print(y)\n",
        "y.grad_fn\n",
        "y.backward()\n",
        "x.grad\n",
        "# Cho biết độ dốc của đa thức trên tại điểm nào\n",
        "\n"
      ]
    },
    {
      "cell_type": "code",
      "execution_count": null,
      "metadata": {
        "colab": {
          "base_uri": "https://localhost:8080/"
        },
        "id": "0veLxH-IguxN",
        "outputId": "46c445d4-14dd-45a8-95bb-841c3716cc36"
      },
      "outputs": [
        {
          "name": "stdout",
          "output_type": "stream",
          "text": [
            "Độ dốc của y tại x = 2.0 là: 1161.0\n"
          ]
        }
      ],
      "source": [
        "print(f\"Độ dốc của y tại x = {x.item()} là: {x.grad.item()}\")"
      ]
    },
    {
      "cell_type": "code",
      "execution_count": null,
      "metadata": {
        "colab": {
          "base_uri": "https://localhost:8080/"
        },
        "id": "QVxHpty4iDLn",
        "outputId": "6deaa1e6-f993-4707-c5da-57fbf67d67a2"
      },
      "outputs": [
        {
          "name": "stdout",
          "output_type": "stream",
          "text": [
            "Gradient ban đầu tại x = 2.0: 25.0\n",
            "Giá trị ban đầu của y tại x = 2.0: 27.0\n",
            "\n",
            "Quá trình Gradient Descent:\n",
            "Giá trị ban đầu của x: 2.0, y: 27.0\n",
            "Vòng lặp 1: x = -0.500000, y = 27.000000, gradient = 25.000000\n",
            "Vòng lặp 2: x = -0.875000, y = -1.125000, gradient = 3.750000\n",
            "Vòng lặp 3: x = -1.254688, y = -2.513672, gradient = 3.796875\n",
            "Vòng lặp 4: x = -1.725085, y = -4.100136, gradient = 4.703972\n",
            "Vòng lặp 5: x = -2.427826, y = -6.807298, gradient = 7.027413\n",
            "Vòng lặp 6: x = -3.724998, y = -13.660884, gradient = 12.971715\n",
            "Vòng lặp 7: x = -6.897680, y = -41.560375, gradient = 31.726830\n",
            "Vòng lặp 8: x = -18.912006, y = -266.510193, gradient = 120.143257\n",
            "Vòng lặp 9: x = -119.146408, y = -6142.375000, gradient = 1002.343933\n",
            "Vòng lặp 10: x = -4330.747559, y = -1663589.500000, gradient = 42116.011719\n",
            "\n",
            "Giá trị cuối cùng sau 10 vòng lặp: x = -4330.747559, y = -81187307520.000000\n"
          ]
        }
      ],
      "source": [
        "#from dataclasses import MISSING\n",
        "#BTVN 1\n",
        "#Tạo 1 tensor x có giá trị ban đầu là 2.0\n",
        "\n",
        "# định nghĩa hàm số và tính gradient\n",
        "# y= x^3 + 2x^2 + 5x + 1\n",
        "\n",
        "# hãy tính dy/dx tại giá trị của X\n",
        "# dùng phương pháp gradient descent với learning rate alpha =0.1 để cập nhật gia trị x trong 10 vòng lặp torch.P\n",
        "import torch\n",
        "\n",
        "# Tạo tensor x với giá trị ban đầu là 2.0, bật requires_grad để tính gradient\n",
        "x = torch.tensor(2.0, requires_grad=True)\n",
        "\n",
        "# Định nghĩa hàm số y = x^3 + 2x^2 + 5x + 1\n",
        "def function(x):\n",
        "    return x**3 + 2*x**2 + 5*x + 1\n",
        "\n",
        "# Tính gradient tại giá trị ban đầu x = 2.0\n",
        "y = function(x)\n",
        "y.backward()\n",
        "initial_gradient = x.grad\n",
        "print(f\"Gradient ban đầu tại x = 2.0: {initial_gradient.item()}\")\n",
        "print(f\"Giá trị ban đầu của y tại x = 2.0: {y.item()}\")\n",
        "\n",
        "# Gradient Descent với learning rate = 0.1, 10 vòng lặp\n",
        "learning_rate = 0.1\n",
        "print(\"\\nQuá trình Gradient Descent:\")\n",
        "print(f\"Giá trị ban đầu của x: {x.item()}, y: {function(x).item()}\")\n",
        "\n",
        "for i in range(10):\n",
        "    # Reset gradient về 0\n",
        "    if x.grad is not None:\n",
        "        x.grad.zero_()\n",
        "\n",
        "    # Tính giá trị hàm và gradient\n",
        "    y = function(x)\n",
        "    y.backward()\n",
        "\n",
        "    # Cập nhật x theo gradient descent\n",
        "    with torch.no_grad():\n",
        "        x -= learning_rate * x.grad\n",
        "\n",
        "    print(f\"Vòng lặp {i+1}: x = {x.item():.6f}, y = {y.item():.6f}, gradient = {x.grad.item():.6f}\")\n",
        "\n",
        "print(f\"\\nGiá trị cuối cùng sau 10 vòng lặp: x = {x.item():.6f}, y = {function(x).item():.6f}\")"
      ]
    },
    {
      "cell_type": "code",
      "execution_count": null,
      "metadata": {
        "colab": {
          "base_uri": "https://localhost:8080/",
          "height": 1000
        },
        "id": "KPTS8P6YuzOb",
        "outputId": "35909665-9a2e-4067-b4e8-47b04c23fc68"
      },
      "outputs": [
        {
          "name": "stdout",
          "output_type": "stream",
          "text": [
            "Giá trị ban đầu:\n",
            "w = 0.5349, b = 0.8094\n",
            "\n",
            "Vòng lặp 10:\n",
            "MSE Loss = 2.8210\n",
            "Gradient w = 0.2184, Gradient b = -1.5219\n",
            "w = 3.5231, b = 1.3814\n",
            "\n",
            "Vòng lặp 20:\n",
            "MSE Loss = 2.5938\n",
            "Gradient w = 0.2096, Gradient b = -1.4591\n",
            "w = 3.5016, b = 1.5307\n",
            "\n",
            "Vòng lặp 30:\n",
            "MSE Loss = 2.3850\n",
            "Gradient w = 0.2009, Gradient b = -1.3990\n",
            "w = 3.4811, b = 1.6739\n",
            "\n",
            "Vòng lặp 40:\n",
            "MSE Loss = 2.1930\n",
            "Gradient w = 0.1927, Gradient b = -1.3413\n",
            "w = 3.4613, b = 1.8112\n",
            "\n",
            "Vòng lặp 50:\n",
            "MSE Loss = 2.0165\n",
            "Gradient w = 0.1847, Gradient b = -1.2861\n",
            "w = 3.4424, b = 1.9428\n",
            "\n",
            "Vòng lặp 60:\n",
            "MSE Loss = 1.8543\n",
            "Gradient w = 0.1771, Gradient b = -1.2331\n",
            "w = 3.4243, b = 2.0690\n",
            "\n",
            "Vòng lặp 70:\n",
            "MSE Loss = 1.7051\n",
            "Gradient w = 0.1698, Gradient b = -1.1822\n",
            "w = 3.4069, b = 2.1900\n",
            "\n",
            "Vòng lặp 80:\n",
            "MSE Loss = 1.5680\n",
            "Gradient w = 0.1628, Gradient b = -1.1335\n",
            "w = 3.3903, b = 2.3060\n",
            "\n",
            "Vòng lặp 90:\n",
            "MSE Loss = 1.4420\n",
            "Gradient w = 0.1561, Gradient b = -1.0868\n",
            "w = 3.3743, b = 2.4172\n",
            "\n",
            "Vòng lặp 100:\n",
            "MSE Loss = 1.3261\n",
            "Gradient w = 0.1497, Gradient b = -1.0420\n",
            "w = 3.3590, b = 2.5239\n",
            "\n",
            "Kết quả cuối cùng:\n",
            "w = 3.3575 (thực tế: 3)\n",
            "b = 2.5343 (thực tế: 5)\n"
          ]
        },
        {
          "data": {
            "image/png": "[encoded data removed]",
            "text/plain": [
              "<Figure size 640x480 with 1 Axes>"
            ]
          },
          "metadata": {},
          "output_type": "display_data"
        }
      ],
      "source": [
        "# BTVN 2:\n",
        "\n",
        "# Tạo 1 tập dữ liệu giả lập với x là số giờ học (ngẫu nhiên từ 1-10) và\n",
        "# y là số điểm được tính theo công thức y = 3x +5 +noise\n",
        "# với noise là 1 giá trị ngẫu nhiên nhỏ\n",
        "\n",
        "# 1. Khởi tạo tham số w và b ngẫu nhiên với requires_grad=True\n",
        "# 2. Tính mse\n",
        "# 3. Tính gradient\n",
        "# 4. Cập nhật tham số w và b bằng gradient descent với learning rate alpha =0.01\n",
        "# 5. lặp lại quá trình trên trong 100 vòng lặp và quan sát sự hội tụ của mô hình\n",
        "import torch\n",
        "import numpy as np\n",
        "import matplotlib.pyplot as plt\n",
        "\n",
        "# 1. Tạo tập dữ liệu giả lập\n",
        "torch.manual_seed(42)  # Để kết quả có thể tái hiện\n",
        "x = torch.linspace(1, 10, 10)  # x từ 1 đến 10\n",
        "noise = torch.randn(10) * 0.1  # Noise ngẫu nhiên nhỏ\n",
        "y = 3 * x + 5 + noise  # y = 3x + 5 + noise\n",
        "\n",
        "# 2. Khởi tạo tham số w và b ngẫu nhiên\n",
        "w = torch.randn(1, requires_grad=True)\n",
        "b = torch.randn(1, requires_grad=True)\n",
        "\n",
        "# 3. Định nghĩa hàm dự đoán và MSE loss\n",
        "def predict(x):\n",
        "    return w * x + b\n",
        "\n",
        "def mse_loss(y_pred, y_true):\n",
        "    return ((y_pred - y_true) ** 2).mean()\n",
        "\n",
        "# 4. Gradient Descent\n",
        "learning_rate = 0.01\n",
        "num_iterations = 100\n",
        "\n",
        "# Lưu giá trị loss để quan sát\n",
        "losses = []\n",
        "\n",
        "print(\"Giá trị ban đầu:\")\n",
        "print(f\"w = {w.item():.4f}, b = {b.item():.4f}\\n\")\n",
        "\n",
        "# 5. Training loop\n",
        "for i in range(num_iterations):\n",
        "    # Forward pass\n",
        "    y_pred = predict(x)\n",
        "    loss = mse_loss(y_pred, y)\n",
        "\n",
        "    # Backward pass\n",
        "    loss.backward()\n",
        "\n",
        "    # Lưu loss\n",
        "    losses.append(loss.item())\n",
        "\n",
        "    # In kết quả mỗi 10 vòng lặp, bao gồm MSE và gradient\n",
        "    if (i + 1) % 10 == 0:\n",
        "        print(f\"Vòng lặp {i+1}:\")\n",
        "        print(f\"MSE Loss = {loss.item():.4f}\")\n",
        "        print(f\"Gradient w = {w.grad.item():.4f}, Gradient b = {b.grad.item():.4f}\")\n",
        "        print(f\"w = {w.item():.4f}, b = {b.item():.4f}\\n\")\n",
        "\n",
        "    # Cập nhật tham số\n",
        "    with torch.no_grad():\n",
        "        w -= learning_rate * w.grad\n",
        "        b -= learning_rate * b.grad\n",
        "\n",
        "        # Reset gradient\n",
        "        w.grad.zero_()\n",
        "        b.grad.zero_()\n",
        "\n",
        "# In kết quả cuối cùng\n",
        "print(\"Kết quả cuối cùng:\")\n",
        "print(f\"w = {w.item():.4f} (thực tế: 3)\")\n",
        "print(f\"b = {b.item():.4f} (thực tế: 5)\")\n",
        "\n",
        "# Vẽ đồ thị loss\n",
        "plt.plot(losses)\n",
        "plt.xlabel('Iteration')\n",
        "plt.ylabel('MSE Loss')\n",
        "plt.title('Loss Convergence')\n",
        "plt.grid(True)\n",
        "plt.show()"
      ]
    },
    {
      "cell_type": "code",
      "execution_count": null,
      "metadata": {
        "id": "aCFb2MyHkK33"
      },
      "outputs": [],
      "source": [
        "# pytorch with tensor\n",
        "import torch\n",
        "import numpy as np"
      ]
    },
    {
      "cell_type": "code",
      "execution_count": null,
      "metadata": {
        "colab": {
          "base_uri": "https://localhost:8080/",
          "height": 36
        },
        "id": "pA3QMuIskSx0",
        "outputId": "b6b9d9a3-d349-40ff-87f1-d245d6dfb13c"
      },
      "outputs": [
        {
          "data": {
            "application/vnd.google.colaboratory.intrinsic+json": {
              "type": "string"
            },
            "text/plain": [
              "'2.5.1+cu124'"
            ]
          },
          "execution_count": 30,
          "metadata": {},
          "output_type": "execute_result"
        }
      ],
      "source": [
        "torch.__version__"
      ]
    },
    {
      "cell_type": "code",
      "execution_count": null,
      "metadata": {
        "colab": {
          "base_uri": "https://localhost:8080/"
        },
        "id": "V8vKNK2MkXhy",
        "outputId": "9c1474a4-3b15-459b-a553-dd83509d7f71"
      },
      "outputs": [
        {
          "name": "stdout",
          "output_type": "stream",
          "text": [
            "[1 2 3 4 5]\n",
            "int64\n",
            "<class 'numpy.ndarray'>\n",
            "tensor([1, 2, 3, 4, 5])\n"
          ]
        }
      ],
      "source": [
        "# Chuyển đổi mảng numpy sang tensor pytorch\n",
        "arr = np.array([1,2,3,4,5])\n",
        "print(arr)\n",
        "print(arr.dtype)\n",
        "print(type(arr))\n",
        "x = torch.from_numpy(arr)\n",
        "print(x)"
      ]
    },
    {
      "cell_type": "code",
      "execution_count": null,
      "metadata": {
        "colab": {
          "base_uri": "https://localhost:8080/"
        },
        "id": "3hFBp75HlG7Y",
        "outputId": "94f2cdac-711a-44c7-b229-07c0564e8189"
      },
      "outputs": [
        {
          "name": "stdout",
          "output_type": "stream",
          "text": [
            "torch.int64\n",
            "<class 'torch.Tensor'>\n"
          ]
        }
      ],
      "source": [
        "print(x.dtype)\n",
        "print(type(x))"
      ]
    },
    {
      "cell_type": "code",
      "execution_count": null,
      "metadata": {
        "colab": {
          "base_uri": "https://localhost:8080/"
        },
        "id": "w5goJ8D0lTvd",
        "outputId": "fea54c05-07b7-4846-a3c3-08bd80eb498d"
      },
      "outputs": [
        {
          "name": "stdout",
          "output_type": "stream",
          "text": [
            "[[ 0.  1.  2.]\n",
            " [ 3.  4.  5.]\n",
            " [ 6.  7.  8.]\n",
            " [ 9. 10. 11.]]\n",
            "tensor([[ 0.,  1.,  2.],\n",
            "        [ 3.,  4.,  5.],\n",
            "        [ 6.,  7.,  8.],\n",
            "        [ 9., 10., 11.]], dtype=torch.float64)\n"
          ]
        }
      ],
      "source": [
        "arr2= np.arange(0., 12.).reshape(4,3)\n",
        "print(arr2)\n",
        "x2 = torch.from_numpy(arr2)\n",
        "print(x2)"
      ]
    },
    {
      "cell_type": "code",
      "execution_count": null,
      "metadata": {
        "colab": {
          "base_uri": "https://localhost:8080/"
        },
        "id": "Pc2xcSvylp8o",
        "outputId": "ea071624-94e8-49ca-f3cb-20a8d9b2fddb"
      },
      "outputs": [
        {
          "name": "stdout",
          "output_type": "stream",
          "text": [
            "tensor([[ 0.,  1.,  2.],\n",
            "        [ 3.,  4.,  5.],\n",
            "        [ 6.,  7.,  8.],\n",
            "        [ 9., 10., 11.]], dtype=torch.float64)\n",
            "torch.DoubleTensor\n"
          ]
        }
      ],
      "source": [
        "x2=torch.from_numpy(arr2)\n",
        "print(x2)\n",
        "print(x2.type())"
      ]
    },
    {
      "cell_type": "markdown",
      "metadata": {
        "id": "n_WTqusOneJg"
      },
      "source": [
        "copying and sharing"
      ]
    },
    {
      "cell_type": "code",
      "execution_count": null,
      "metadata": {
        "colab": {
          "base_uri": "https://localhost:8080/"
        },
        "id": "sGmks9fDlx-R",
        "outputId": "97aa0ae7-0b42-4018-8ae8-cab0d5e0a42d"
      },
      "outputs": [
        {
          "name": "stdout",
          "output_type": "stream",
          "text": [
            "[0 1 2 3 4]\n",
            "tensor([0, 1, 2, 3, 4])\n",
            "tensor([99,  1,  2,  3,  4])\n"
          ]
        }
      ],
      "source": [
        "arr = np.arange(0,5)\n",
        "print(arr)\n",
        "x = torch.from_numpy(arr)\n",
        "print(x)\n",
        "arr[0]=99\n",
        "print(x)"
      ]
    },
    {
      "cell_type": "code",
      "execution_count": null,
      "metadata": {
        "colab": {
          "base_uri": "https://localhost:8080/"
        },
        "id": "36h2G_UEmOdc",
        "outputId": "de913583-71b4-4075-fe62-06e942bae47d"
      },
      "outputs": [
        {
          "name": "stdout",
          "output_type": "stream",
          "text": [
            "[0 1 2 3 4]\n",
            "tensor([0, 1, 2, 3, 4])\n",
            "tensor([0, 1, 2, 3, 4])\n"
          ]
        }
      ],
      "source": [
        "arr = np.arange(0,5)\n",
        "print(arr)\n",
        "x = torch.tensor(arr)\n",
        "print(x)\n",
        "arr[0]=99\n",
        "print(x)"
      ]
    },
    {
      "cell_type": "code",
      "execution_count": null,
      "metadata": {
        "colab": {
          "base_uri": "https://localhost:8080/"
        },
        "id": "3iFZS6ClnuDb",
        "outputId": "5018a730-ccd4-4ec7-c450-ae3daf039479"
      },
      "outputs": [
        {
          "name": "stdout",
          "output_type": "stream",
          "text": [
            "Tensor empty:\n",
            " tensor([[6.6380e-07, 1.0186e-11, 3.0881e-09, 4.2970e-05],\n",
            "        [4.0975e-11, 2.6225e-09, 2.9572e-18, 0.0000e+00],\n",
            "        [5.8688e-34, 0.0000e+00, 1.3593e-43, 0.0000e+00]])\n"
          ]
        }
      ],
      "source": [
        "# BTVN 3: bạn hãy giúp thầy về nhà tạo tensor với:\n",
        "#empyty\n",
        "tensor_empty = torch.empty(3, 4)\n",
        "print(\"Tensor empty:\\n\", tensor_empty)\n",
        "\n"
      ]
    },
    {
      "cell_type": "code",
      "execution_count": null,
      "metadata": {
        "colab": {
          "base_uri": "https://localhost:8080/"
        },
        "id": "hsVeiMjNyR0e",
        "outputId": "b8bc8478-19de-4b43-f5c8-e020d0821cf3"
      },
      "outputs": [
        {
          "name": "stdout",
          "output_type": "stream",
          "text": [
            "Tensor zeros:\n",
            " tensor([[0., 0., 0., 0.],\n",
            "        [0., 0., 0., 0.],\n",
            "        [0., 0., 0., 0.]])\n"
          ]
        }
      ],
      "source": [
        "#zeros\n",
        "tensor_zeros = torch.zeros(3, 4)\n",
        "print(\"Tensor zeros:\\n\", tensor_zeros)"
      ]
    },
    {
      "cell_type": "code",
      "execution_count": null,
      "metadata": {
        "colab": {
          "base_uri": "https://localhost:8080/"
        },
        "id": "bLxZwKPKya5p",
        "outputId": "8243f8c1-3a6c-4a3e-c4af-7a171dd8d519"
      },
      "outputs": [
        {
          "name": "stdout",
          "output_type": "stream",
          "text": [
            "Tensor ones:\n",
            " tensor([[1., 1., 1., 1.],\n",
            "        [1., 1., 1., 1.],\n",
            "        [1., 1., 1., 1.]])\n"
          ]
        }
      ],
      "source": [
        "#ones\n",
        "tensor_ones = torch.ones(3, 4)\n",
        "print(\"Tensor ones:\\n\", tensor_ones)"
      ]
    },
    {
      "cell_type": "code",
      "execution_count": null,
      "metadata": {
        "colab": {
          "base_uri": "https://localhost:8080/"
        },
        "id": "ip3E_WrNyj_a",
        "outputId": "f5e1e892-28b6-44bd-eb80-22425df8114c"
      },
      "outputs": [
        {
          "name": "stdout",
          "output_type": "stream",
          "text": [
            "Tensor random:\n",
            " tensor([[0.6977, 0.8000, 0.1610, 0.2823],\n",
            "        [0.6816, 0.9152, 0.3971, 0.8742],\n",
            "        [0.4194, 0.5529, 0.9527, 0.0362]])\n"
          ]
        }
      ],
      "source": [
        "#random\n",
        "tensor_random = torch.rand(3, 4)\n",
        "print(\"Tensor random:\\n\", tensor_random)\n",
        "\n"
      ]
    },
    {
      "cell_type": "code",
      "execution_count": null,
      "metadata": {
        "colab": {
          "base_uri": "https://localhost:8080/"
        },
        "id": "_Ilhaebczns7",
        "outputId": "09240f30-b60a-4282-e785-cbb85a497380"
      },
      "outputs": [
        {
          "name": "stdout",
          "output_type": "stream",
          "text": [
            "Tensor ban đầu:\n",
            " tensor([ 0,  1,  2,  3,  4,  5,  6,  7,  8,  9, 10, 11])\n",
            "Tensor sau khi dùng reshape:\n",
            " tensor([[ 0,  1,  2,  3,  4,  5],\n",
            "        [ 6,  7,  8,  9, 10, 11]])\n",
            "Tensor sau khi dùng view:\n",
            " tensor([[ 0,  1,  2,  3],\n",
            "        [ 4,  5,  6,  7],\n",
            "        [ 8,  9, 10, 11]])\n",
            "Tensor sau khi dùng view_as:\n",
            " tensor([[ 0,  1,  2],\n",
            "        [ 3,  4,  5],\n",
            "        [ 6,  7,  8],\n",
            "        [ 9, 10, 11]])\n"
          ]
        }
      ],
      "source": [
        "#reshape với view và view as\n",
        "# Thay đổi hình dạng thành 2x6\n",
        "# Tạo một tensor 1D với 12 phần tử\n",
        "tensor = torch.arange(12)\n",
        "print(\"Tensor ban đầu:\\n\", tensor)\n",
        "\n",
        "tensor_reshape = tensor.reshape(2, 6)\n",
        "print(\"Tensor sau khi dùng reshape:\\n\", tensor_reshape)\n",
        "\n",
        "# Thay đổi hình dạng thành 3x4\n",
        "tensor_view = tensor.view(3, 4)\n",
        "print(\"Tensor sau khi dùng view:\\n\", tensor_view)\n",
        "\n",
        "# Tạo một tensor khác với hình dạng 4x3\n",
        "tensor_other = torch.randn(4, 3)\n",
        "# Thay đổi hình dạng của tensor ban đầu để khớp với tensor_other\n",
        "tensor_view_as = tensor.view_as(tensor_other)\n",
        "print(\"Tensor sau khi dùng view_as:\\n\", tensor_view_as)\n",
        "\n",
        "\n",
        "#dl 16/3"
      ]
    },
    {
      "cell_type": "code",
      "execution_count": null,
      "metadata": {
        "id": "25-QD6OmnSL7"
      },
      "outputs": [],
      "source": [
        "# BTVN 3:giải thích lí do tại sao cho 2 trường hợp ở trên\n",
        "# Phương thức torch.from_numpy() tạo ra một tensor chia sẻ cùng vùng nhớ\n",
        "# với mảng NumPy đầu vào. Điều này có nghĩa là bất kỳ thay đổi nào trên mảng\n",
        "# NumPy hoặc tensor sẽ được phản ánh lẫn nhau.\n",
        "\n",
        "# Phương thức torch.tensor() tạo ra một tensor mới bằng cách sao chép dữ liệu\n",
        "# từ mảng NumPy đầu vào. Điều này có nghĩa là tensor được tạo ra sẽ có vùng nhớ\n",
        "# riêng biệt, không liên kết với mảng NumPy ban đầu. Do đó, khi bạn thay đổi\n",
        "# giá trị trong mảng NumPy, tensor sẽ không bị ảnh hưởng, và ngược lại."
      ]
    }
  ],
  "metadata": {
    "accelerator": "GPU",
    "colab": {
      "gpuType": "T4",
      "provenance": []
    },
    "kernelspec": {
      "display_name": "Python 3",
      "name": "python3"
    },
    "language_info": {
      "name": "python",
      "version": "3.13.1"
    }
  },
  "nbformat": 4,
  "nbformat_minor": 0
}
